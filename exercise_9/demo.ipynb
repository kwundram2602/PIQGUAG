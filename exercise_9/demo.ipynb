{
 "cells": [
  {
   "cell_type": "markdown",
   "metadata": {},
   "source": [
    "# arcpy examples"
   ]
  },
  {
   "cell_type": "code",
   "execution_count": null,
   "metadata": {},
   "outputs": [],
   "source": [
    "import arcpy\n",
    "# Laufzeit beachten --> Umfangreiches site-package"
   ]
  },
  {
   "cell_type": "code",
   "execution_count": null,
   "metadata": {},
   "outputs": [],
   "source": [
    "# arcpy example 1: GP Tool in Loop\n",
    "import os\n",
    "#arcpy.env.overwriteOutput = True\n",
    "# list all feature classes in a fgdb\n",
    "arcpy.env.workspace = r'C:\\arcpy_1\\arcpy_1\\arcpy_1.gdb' #Pfad anpassen\n",
    "fc_list = arcpy.ListFeatureClasses()\n",
    "print(fc_list)\n",
    "\n",
    "# list again, with 'Point' Parameter\n",
    "#fc_list = arcpy.ListFeatureClasses(feature_type='Point')\n",
    "#print(fc_list)\n",
    "\n",
    "# buffer over each point fc\n",
    "#output_gdb = r'C:\\Users\\PhilippeRieffel\\Documents\\Unikurs\\arcpy_1\\arcpy_1\\geodata.gdb'\n",
    "#for pt_fc in fc_list:\n",
    "#    print(f'Buffering {pt_fc}')\n",
    "#    arcpy.Buffer_analysis(in_features=pt_fc,out_feature_class=os.path.join(output_gdb,pt_fc+'_buffer'),buffer_distance_or_field='20 meters')\n",
    "#print('Buffering Done')\n",
    "# exkurs: overwrite data \n",
    "# when runnning the code the 2nd time, it will fail. Add arcpy.env.overwriteOutput = True at the beginning and run the code again"
   ]
  },
  {
   "cell_type": "code",
   "execution_count": null,
   "metadata": {},
   "outputs": [],
   "source": [
    "# arcpy example 2: Search cursor\n",
    "import os\n",
    "arcpy.env.workspace = r'C:\\arcpy_1\\arcpy_1\\arcpy_1.gdb'\n",
    "\n",
    "# reference fc and fields\n",
    "fc = 'trees_ms_mitte'\n",
    "fc_path = os.path.join(arcpy.env.workspace,fc)\n",
    "print(fc_path)\n",
    "\n",
    "# which fields are in the fc?\n",
    "#fields = arcpy.Describe(fc_path).fields\n",
    "#print(fields)\n",
    "#for f in fields:\n",
    "#    print(f.name)\n",
    "\n",
    "#cursor_fields = ['Shape','fclass']\n",
    "\n",
    "# iterate and print field values\n",
    "#scur = arcpy.da.SearchCursor(in_table=fc_path,field_names=cursor_fields)\n",
    "#for row in scur:\n",
    "#    print(row)"
   ]
  },
  {
   "cell_type": "code",
   "execution_count": null,
   "metadata": {},
   "outputs": [],
   "source": [
    "# arcpy example 2a: Update cursor\n",
    "# reference fc and fields\n",
    "import os, random\n",
    "arcpy.env.workspace = r'C:\\arcpy_1\\arcpy_1\\arcpy_1.gdb'\n",
    "\n",
    "# reference fc and fields\n",
    "fc = 'trees_ms_mitte'\n",
    "fc_path = os.path.join(arcpy.env.workspace,fc)\n",
    "print(fc_path)\n",
    "cursor_fields = ['Shape','name']\n",
    "# change/recalculate field values\n",
    "new_names = ['Oak','Ash','Beech','Cherry']\n",
    "# iterate and change field values\n",
    "ucur = arcpy.da.UpdateCursor(in_table=fc_path,field_names=cursor_fields)\n",
    "for row in ucur:\n",
    "    print(row)\n",
    "    row[1] = new_names[random.randint(0,3)]\n",
    "    row[1] = ''\n",
    "    print(row)\n",
    "    ucur.updateRow(row)\n",
    "del ucur"
   ]
  },
  {
   "cell_type": "code",
   "execution_count": null,
   "metadata": {},
   "outputs": [],
   "source": [
    "# check result with Search Cursor or in ArcGIS Pro\n",
    "scur = arcpy.da.SearchCursor(in_table=fc_path,field_names=cursor_fields)\n",
    "for row in scur:\n",
    "    print(row)"
   ]
  },
  {
   "cell_type": "code",
   "execution_count": null,
   "metadata": {},
   "outputs": [],
   "source": [
    "# arcpy example 2b: Insert cursor, this adds a new bus stop in the middle of the schlossplatz\n",
    "# reference existing fc\n",
    "import os\n",
    "arcpy.env.workspace = r'C:\\arcpy_1\\arcpy_1\\arcpy_1.gdb'\n",
    "\n",
    "# reference fc and fields\n",
    "cursor_fields = ['Shape@XY','name','fclass']\n",
    "fc = 'stops_ms_mitte'\n",
    "fc_path = os.path.join(arcpy.env.workspace,fc)\n",
    "print(fc_path)\n",
    "# Check fc in ArcGIS Pro\n",
    "\n",
    "# build attribute data and geometry\n",
    "new_feat = ((7.614796837204324, 51.963521076436564), 'Schlossplatz Zentral', 'bus_stop')\n",
    "\n",
    "# insert data\n",
    "icur = arcpy.da.InsertCursor(in_table=fc_path,field_names=cursor_fields)\n",
    "icur.insertRow(new_feat)\n",
    "del icur\n",
    "\n",
    "# verify result in arcgis pro or with next cell\n"
   ]
  },
  {
   "cell_type": "code",
   "execution_count": null,
   "metadata": {},
   "outputs": [],
   "source": [
    "# arcpy example 3: Use Search Cursor with SQL statement\n",
    "import os\n",
    "arcpy.env.workspace = r'C:\\arcpy_1\\arcpy_1\\arcpy_1.gdb'\n",
    "\n",
    "# reference fc and fields\n",
    "cursor_fields = ['name','fclass']\n",
    "fc = 'stops_ms_mitte'\n",
    "fc_path = os.path.join(arcpy.env.workspace,fc)\n",
    "# build sql --> check the \"\" and ''\n",
    "sql = \"name='Schlossplatz Zentral'\"\n",
    "# iterate fc\n",
    "print('Iteration with SQL')\n",
    "for row in arcpy.da.SearchCursor(in_table=fc_path,field_names=cursor_fields,where_clause=sql):\n",
    "    print(row)\n",
    "# remove sql\n",
    "# iterate again\n",
    "print('\\nIteration without SQL')\n",
    "for row in arcpy.da.SearchCursor(in_table=fc_path,field_names=cursor_fields):\n",
    "    print(row)\n",
    "\n"
   ]
  },
  {
   "cell_type": "code",
   "execution_count": null,
   "metadata": {},
   "outputs": [],
   "source": [
    "# arcpy example 4: Interact with aprx files\n",
    "# reference aprx files\n",
    "aprx_path = r\"C:\\arcpy_1\\arcpy_1\\arcpy_1.aprx\"\n",
    "aprx_file = arcpy.mp.ArcGISProject(aprx_path)\n",
    "print(type(aprx_file))\n",
    "\n",
    "# reference map by index\n",
    "map = aprx_file.listMaps()[0]\n",
    "print(map.name)\n",
    "\n",
    "# reference map by name\n",
    "map = aprx_file.listMaps('Muenster Data')[0]\n",
    "print(map.name)\n",
    "\n",
    "# get map information\n",
    "print(f'Map Extent: {map.defaultCamera.getExtent()}')\n",
    "print(f'Map Layers: {[r.name for r in map.listLayers()]}')\n",
    "print(f'Map Bookmarks: {[b.name for b in map.listBookmarks()]}')\n",
    "\n",
    "# reference layer \n",
    "l = map.listLayers('World Topographic Map')[0]\n",
    "print(f'Basemap Layer Name: {l.name}')\n",
    "# change layer name\n",
    "l.name = 'Basemap'\n",
    "# save aprx\n",
    "aprx_file.save()\n",
    "\n",
    "# Reopen in ArcGIS Pro and Verify"
   ]
  }
 ],
 "metadata": {
  "kernelspec": {
   "display_name": "ArcGISPro",
   "language": "Python",
   "name": "python3"
  },
  "language_info": {
   "file_extension": ".py",
   "name": "python",
   "version": "3"
  }
 },
 "nbformat": 4,
 "nbformat_minor": 2
}
